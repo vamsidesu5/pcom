{
 "cells": [
  {
   "cell_type": "code",
   "execution_count": 2,
   "metadata": {},
   "outputs": [],
   "source": [
    "import numpy as np\n",
    "import os\n",
    "from tempfile import TemporaryFile\n",
    "import torch\n",
    "from torch import nn\n",
    "# import pandas as pd\n",
    "from sklearn.model_selection import train_test_split\n",
    "import scipy\n",
    "from torch import optim\n",
    "# import pandas as pd\n",
    "# import matplotlib.pyplot as plt\n",
    "# %matplotlib inline\n",
    "# %config InlineBackend.figure_format = 'retina'"
   ]
  },
  {
   "cell_type": "code",
   "execution_count": 3,
   "metadata": {},
   "outputs": [],
   "source": [
    "directory = '/coc/scratch/dscarafoni3/50salads/mstcn_data/50salads/features'\n",
    "x_data = np.empty((0,2048),int)\n",
    "x_data_saved = TemporaryFile()"
   ]
  },
  {
   "cell_type": "code",
   "execution_count": 4,
   "metadata": {},
   "outputs": [
    {
     "name": "stdout",
     "output_type": "stream",
     "text": [
      "0\n",
      "rgb-01-1.npy\n",
      "(11679, 2048)\n",
      "(11679, 2048)\n",
      "1\n",
      "rgb-01-2.npy\n",
      "(12585, 2048)\n",
      "(24264, 2048)\n",
      "2\n",
      "rgb-02-1.npy\n",
      "(12415, 2048)\n",
      "(36679, 2048)\n",
      "3\n",
      "rgb-02-2.npy\n",
      "(10521, 2048)\n",
      "(47200, 2048)\n",
      "4\n",
      "rgb-03-1.npy\n",
      "(11373, 2048)\n",
      "(58573, 2048)\n",
      "5\n",
      "rgb-03-2.npy\n",
      "(11584, 2048)\n",
      "(70157, 2048)\n",
      "6\n",
      "rgb-04-1.npy\n",
      "(13168, 2048)\n",
      "(83325, 2048)\n",
      "7\n",
      "rgb-04-2.npy\n",
      "(12371, 2048)\n",
      "(95696, 2048)\n",
      "8\n",
      "rgb-05-1.npy\n",
      "(11115, 2048)\n",
      "(106811, 2048)\n",
      "9\n",
      "rgb-05-2.npy\n",
      "(12092, 2048)\n",
      "(118903, 2048)\n",
      "10\n",
      "rgb-06-1.npy\n",
      "(9694, 2048)\n",
      "(128597, 2048)\n",
      "11\n",
      "rgb-06-2.npy\n",
      "(8229, 2048)\n",
      "(136826, 2048)\n",
      "12\n",
      "rgb-07-1.npy\n",
      "(17793, 2048)\n",
      "(154619, 2048)\n",
      "13\n",
      "rgb-07-2.npy\n",
      "(15091, 2048)\n",
      "(169710, 2048)\n",
      "14\n",
      "rgb-09-1.npy\n",
      "(11547, 2048)\n",
      "(181257, 2048)\n",
      "15\n",
      "rgb-09-2.npy\n",
      "(14290, 2048)\n",
      "(195547, 2048)\n",
      "16\n",
      "rgb-10-1.npy\n",
      "(12329, 2048)\n",
      "(207876, 2048)\n",
      "17\n",
      "rgb-10-2.npy\n",
      "(9094, 2048)\n",
      "(216970, 2048)\n",
      "18\n",
      "rgb-11-1.npy\n",
      "(9435, 2048)\n",
      "(226405, 2048)\n",
      "19\n",
      "rgb-11-2.npy\n",
      "(8453, 2048)\n",
      "(234858, 2048)\n",
      "20\n",
      "rgb-13-1.npy\n",
      "(13880, 2048)\n",
      "(248738, 2048)\n",
      "21\n",
      "rgb-13-2.npy\n",
      "(13092, 2048)\n",
      "(261830, 2048)\n",
      "22\n",
      "rgb-14-1.npy\n",
      "(8599, 2048)\n",
      "(270429, 2048)\n",
      "23\n",
      "rgb-14-2.npy\n",
      "(8225, 2048)\n",
      "(278654, 2048)\n",
      "24\n",
      "rgb-15-1.npy\n",
      "(11489, 2048)\n",
      "(290143, 2048)\n",
      "25\n",
      "rgb-15-2.npy\n",
      "(13961, 2048)\n",
      "(304104, 2048)\n",
      "26\n",
      "rgb-16-1.npy\n",
      "(12865, 2048)\n",
      "(316969, 2048)\n",
      "27\n",
      "rgb-16-2.npy\n",
      "(10421, 2048)\n",
      "(327390, 2048)\n",
      "28\n",
      "rgb-17-1.npy\n",
      "(11146, 2048)\n",
      "(338536, 2048)\n",
      "29\n",
      "rgb-17-2.npy\n",
      "(12943, 2048)\n",
      "(351479, 2048)\n",
      "30\n",
      "rgb-18-1.npy\n",
      "(12077, 2048)\n",
      "(363556, 2048)\n",
      "31\n",
      "rgb-18-2.npy\n",
      "(7555, 2048)\n",
      "(371111, 2048)\n",
      "32\n",
      "rgb-19-1.npy\n",
      "(12817, 2048)\n",
      "(383928, 2048)\n",
      "33\n",
      "rgb-19-2.npy\n",
      "(11658, 2048)\n",
      "(395586, 2048)\n",
      "34\n",
      "rgb-20-1.npy\n",
      "(8488, 2048)\n",
      "(404074, 2048)\n",
      "35\n",
      "rgb-20-2.npy\n",
      "(8291, 2048)\n",
      "(412365, 2048)\n",
      "36\n",
      "rgb-21-1.npy\n",
      "(12912, 2048)\n",
      "(425277, 2048)\n",
      "37\n",
      "rgb-21-2.npy\n",
      "(12032, 2048)\n",
      "(437309, 2048)\n",
      "38\n",
      "rgb-22-1.npy\n",
      "(18143, 2048)\n",
      "(455452, 2048)\n",
      "39\n",
      "rgb-22-2.npy\n",
      "(12456, 2048)\n",
      "(467908, 2048)\n",
      "40\n",
      "rgb-23-1.npy\n",
      "(13274, 2048)\n",
      "(481182, 2048)\n",
      "41\n",
      "rgb-23-2.npy\n",
      "(14631, 2048)\n",
      "(495813, 2048)\n",
      "42\n",
      "rgb-24-1.npy\n",
      "(12211, 2048)\n",
      "(508024, 2048)\n",
      "43\n",
      "rgb-24-2.npy\n",
      "(7804, 2048)\n",
      "(515828, 2048)\n",
      "44\n",
      "rgb-25-1.npy\n",
      "(11159, 2048)\n",
      "(526987, 2048)\n",
      "45\n",
      "rgb-25-2.npy\n",
      "(8364, 2048)\n",
      "(535351, 2048)\n",
      "46\n",
      "rgb-26-1.npy\n",
      "(9126, 2048)\n",
      "(544477, 2048)\n",
      "47\n",
      "rgb-26-2.npy\n",
      "(9219, 2048)\n",
      "(553696, 2048)\n",
      "48\n",
      "rgb-27-1.npy\n",
      "(11859, 2048)\n",
      "(565555, 2048)\n",
      "49\n",
      "rgb-27-2.npy\n",
      "(12040, 2048)\n",
      "(577595, 2048)\n",
      "(577595, 2048)\n"
     ]
    }
   ],
   "source": [
    "# X Data\n",
    "counter = 0\n",
    "current_dir = \"/coc/pcba1/vdesu7/research_project/pcom/\"\n",
    "file_list = os.listdir(directory)\n",
    "for filename in sorted(file_list):\n",
    "    #For debgugging purposes\n",
    "    print(counter)\n",
    "    counter += 1\n",
    "    print(filename)\n",
    "    # Actual Code\n",
    "    rgb_video = np.load(directory + \"/\" + filename)\n",
    "    rgb_video_transposed = np.transpose(rgb_video)\n",
    "    print(rgb_video_transposed.shape)\n",
    "    x_data = np.append(x_data,rgb_video_transposed,axis=0)\n",
    "    print(x_data.shape)\n",
    "np.save(os.path.join(current_dir, 'x_data.npy'), x_data)\n",
    "print(x_data.shape)"
   ]
  },
  {
   "cell_type": "code",
   "execution_count": 5,
   "metadata": {},
   "outputs": [
    {
     "name": "stdout",
     "output_type": "stream",
     "text": [
      "/coc/pcba1/vdesu7/research_project/pcom\n",
      "(577595, 2048)\n"
     ]
    }
   ],
   "source": [
    "print(os.path.abspath(\".\"))\n",
    "final_x_data = np.load(os.path.abspath(\".\") + \"/\" + \"x_data.npy\")\n",
    "print(final_x_data.shape)"
   ]
  },
  {
   "cell_type": "code",
   "execution_count": 3,
   "metadata": {},
   "outputs": [
    {
     "name": "stdout",
     "output_type": "stream",
     "text": [
      "{'add_salt': 6, 'add_vinegar': 7, 'mix_ingredients': 15, 'action_end': 18, 'place_cheese_into_bowl': 3, 'add_oil': 8, 'mix_dressing': 10, 'cut_cucumber': 12, 'peel_cucumber': 11, 'add_dressing': 14, 'cut_cheese': 2, 'action_start': 17, 'place_tomato_into_bowl': 1, 'cut_lettuce': 4, 'add_pepper': 9, 'place_cucumber_into_bowl': 13, 'place_lettuce_into_bowl': 5, 'cut_tomato': 0, 'serve_salad_onto_plate': 16}\n"
     ]
    }
   ],
   "source": [
    "mapping = {}\n",
    "filename = \"/coc/scratch/dscarafoni3/50salads/mstcn_data/50salads/mapping.txt\"\n",
    "with open(filename) as file: \n",
    "    for line in file: \n",
    "        arr = line.split(\" \")\n",
    "        label_size = len(arr[1])\n",
    "        mapping[arr[1][:label_size - 1]] = int(arr[0])\n",
    "print(mapping)"
   ]
  },
  {
   "cell_type": "code",
   "execution_count": 15,
   "metadata": {},
   "outputs": [
    {
     "name": "stdout",
     "output_type": "stream",
     "text": [
      "<class 'numpy.ndarray'>\n"
     ]
    }
   ],
   "source": [
    "# Y Data \n",
    "current_dir = \"/coc/pcba1/vdesu7/research_project/pcom/\"\n",
    "new_directory = '/coc/pcba1/vdesu7/research_project/pcom/groundTruth'\n",
    "file_list_labels = os.listdir(new_directory)\n",
    "y_data = list()\n",
    "for filename in sorted(file_list_labels):\n",
    "    if filename != '.history':\n",
    "        text_file = open(new_directory + \"/\" + filename, \"r\")\n",
    "        lines = text_file.read().split('\\n')\n",
    "        lines = list(filter(lambda a: a != '', lines))\n",
    "        y_data.extend(lines)\n",
    "y_arr_data = np.array(y_data)\n",
    "print(type(y_arr_data))\n",
    "y_arr_data = np.vectorize(mapping.get)(y_arr_data)\n",
    "np.save(os.path.join(current_dir, 'y_data.npy'), y_arr_data)\n"
   ]
  },
  {
   "cell_type": "code",
   "execution_count": 16,
   "metadata": {},
   "outputs": [
    {
     "name": "stdout",
     "output_type": "stream",
     "text": [
      "/coc/pcba1/vdesu7/research_project/pcom\n",
      "(577595,)\n"
     ]
    }
   ],
   "source": [
    "print(os.path.abspath(\".\"))\n",
    "final_y_data = np.load(os.path.abspath(\".\") + \"/\" + \"y_data.npy\")\n",
    "print(final_y_data.shape)"
   ]
  },
  {
   "cell_type": "code",
   "execution_count": 18,
   "metadata": {},
   "outputs": [
    {
     "name": "stdout",
     "output_type": "stream",
     "text": [
      "<class 'numpy.ndarray'>\n",
      "<class 'numpy.ndarray'>\n"
     ]
    }
   ],
   "source": [
    "final_x_data = np.load(os.path.abspath(\".\") + \"/\" + \"x_data.npy\")\n",
    "final_y_data = np.load(os.path.abspath(\".\") + \"/\" + \"y_data.npy\")\n",
    "from sklearn.model_selection import train_test_split\n",
    "x_train, x_test, y_train, y_test = train_test_split(\n",
    "    final_x_data, final_y_data, test_size=.2, random_state=42)\n",
    "np.save(os.path.join(current_dir, 'x_train.npy'), x_train)\n",
    "np.save(os.path.join(current_dir, 'x_test.npy'), x_test)\n",
    "np.save(os.path.join(current_dir, 'y_train.npy'), y_train)\n",
    "np.save(os.path.join(current_dir, 'y_test.npy'), y_test)\n",
    "print(type(x_train))\n",
    "print(type(y_train)) "
   ]
  },
  {
   "cell_type": "code",
   "execution_count": null,
   "metadata": {},
   "outputs": [],
   "source": []
  }
 ],
 "metadata": {
  "interpreter": {
   "hash": "31f2aee4e71d21fbe5cf8b01ff0e069b9275f58929596ceb00d14d90e3e16cd6"
  },
  "kernelspec": {
   "display_name": "Python 3.5.2 64-bit",
   "language": "python",
   "name": "python3"
  },
  "language_info": {
   "codemirror_mode": {
    "name": "ipython",
    "version": 3
   },
   "file_extension": ".py",
   "mimetype": "text/x-python",
   "name": "python",
   "nbconvert_exporter": "python",
   "pygments_lexer": "ipython3",
   "version": "3.5.2"
  },
  "orig_nbformat": 4
 },
 "nbformat": 4,
 "nbformat_minor": 2
}
