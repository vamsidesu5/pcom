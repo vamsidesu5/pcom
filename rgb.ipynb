{
 "cells": [
  {
   "cell_type": "code",
   "execution_count": 2,
   "metadata": {},
   "outputs": [],
   "source": [
    "import numpy as np\n",
    "import os\n",
    "from tempfile import TemporaryFile\n",
    "import torch\n",
    "from torch import nn\n",
    "# import pandas as pd\n",
    "from sklearn.model_selection import train_test_split\n",
    "import scipy\n",
    "from torch import optim\n",
    "# import pandas as pd\n",
    "# import matplotlib.pyplot as plt\n",
    "# %matplotlib inline\n",
    "# %config InlineBackend.figure_format = 'retina'"
   ]
  },
  {
   "cell_type": "code",
   "execution_count": 33,
   "metadata": {},
   "outputs": [],
   "source": [
    "directory = '/coc/scratch/dscarafoni3/50salads/mstcn_data/50salads/features'\n",
    "x_data = np.empty((0,2048),int)\n",
    "x_data_saved = TemporaryFile()"
   ]
  },
  {
   "cell_type": "code",
   "execution_count": 35,
   "metadata": {},
   "outputs": [
    {
     "name": "stdout",
     "output_type": "stream",
     "text": [
      "0\n",
      "rgb-01-1.npy\n",
      "1\n",
      "rgb-01-2.npy\n",
      "2\n",
      "rgb-02-1.npy\n",
      "3\n",
      "rgb-02-2.npy\n",
      "4\n",
      "rgb-03-1.npy\n",
      "5\n",
      "rgb-03-2.npy\n",
      "6\n",
      "rgb-04-1.npy\n",
      "7\n",
      "rgb-04-2.npy\n",
      "8\n",
      "rgb-05-1.npy\n",
      "9\n",
      "rgb-05-2.npy\n",
      "10\n",
      "rgb-06-1.npy\n",
      "11\n",
      "rgb-06-2.npy\n",
      "12\n",
      "rgb-07-1.npy\n",
      "13\n",
      "rgb-07-2.npy\n",
      "14\n",
      "rgb-09-1.npy\n",
      "15\n",
      "rgb-09-2.npy\n",
      "16\n",
      "rgb-10-1.npy\n",
      "17\n",
      "rgb-10-2.npy\n",
      "18\n",
      "rgb-11-1.npy\n",
      "19\n",
      "rgb-11-2.npy\n",
      "20\n",
      "rgb-13-1.npy\n",
      "21\n",
      "rgb-13-2.npy\n",
      "22\n",
      "rgb-14-1.npy\n",
      "23\n",
      "rgb-14-2.npy\n",
      "24\n",
      "rgb-15-1.npy\n",
      "25\n",
      "rgb-15-2.npy\n",
      "26\n",
      "rgb-16-1.npy\n",
      "27\n",
      "rgb-16-2.npy\n",
      "28\n",
      "rgb-17-1.npy\n",
      "29\n",
      "rgb-17-2.npy\n",
      "30\n",
      "rgb-18-1.npy\n",
      "31\n",
      "rgb-18-2.npy\n",
      "32\n",
      "rgb-19-1.npy\n",
      "33\n",
      "rgb-19-2.npy\n",
      "34\n",
      "rgb-20-1.npy\n",
      "35\n",
      "rgb-20-2.npy\n",
      "36\n",
      "rgb-21-1.npy\n",
      "37\n",
      "rgb-21-2.npy\n",
      "38\n",
      "rgb-22-1.npy\n",
      "39\n",
      "rgb-22-2.npy\n",
      "40\n",
      "rgb-23-1.npy\n",
      "41\n",
      "rgb-23-2.npy\n",
      "42\n",
      "rgb-24-1.npy\n",
      "43\n",
      "rgb-24-2.npy\n",
      "44\n",
      "rgb-25-1.npy\n",
      "45\n",
      "rgb-25-2.npy\n",
      "46\n",
      "rgb-26-1.npy\n",
      "47\n",
      "rgb-26-2.npy\n",
      "48\n",
      "rgb-27-1.npy\n",
      "49\n",
      "rgb-27-2.npy\n",
      "(0, 2048)\n",
      "50\n"
     ]
    }
   ],
   "source": [
    "# X Data\n",
    "counter = 0\n",
    "current_dir = \"/coc/pcba1/vdesu7/research_project/pcom/\"\n",
    "file_list = os.listdir(directory)\n",
    "for filename in sorted(file_list):\n",
    "    #For debgugging purposes\n",
    "    print(counter)\n",
    "    counter += 1\n",
    "    print(filename)\n",
    "    # Actual Code\n",
    "    # rgb_video = np.load(directory + \"/\" + filename)\n",
    "    # rgb_video_transposed = np.transpose(rgb_video)\n",
    "    # print(rgb_video_transposed.shape)\n",
    "    # x_data = np.append(x_data,rgb_video_transposed,axis=0)\n",
    "    # print(x_data.shape)\n",
    "np.save(os.path.join(current_dir, 'x_data.npy'), x_data)\n",
    "print(x_data.shape)\n",
    "print(count)"
   ]
  },
  {
   "cell_type": "code",
   "execution_count": 3,
   "metadata": {},
   "outputs": [
    {
     "name": "stdout",
     "output_type": "stream",
     "text": [
      "/coc/pcba1/vdesu7/research_project/pcom\n",
      "(577595, 2048)\n"
     ]
    }
   ],
   "source": [
    "print(os.path.abspath(\".\"))\n",
    "final_x_data = np.load(os.path.abspath(\".\") + \"/\" + \"x_data.npy\")\n",
    "print(final_x_data.shape)"
   ]
  },
  {
   "cell_type": "code",
   "execution_count": 26,
   "metadata": {},
   "outputs": [
    {
     "name": "stdout",
     "output_type": "stream",
     "text": [
      "{'add_oil': '8', 'serve_salad_onto_plate': '16', 'add_dressing': '14', 'cut_cheese': '2', 'add_pepper': '9', 'cut_lettuce': '4', 'action_start': '17', 'add_vinegar': '7', 'cut_tomato': '0', 'action_end': '18', 'add_salt': '6', 'place_cucumber_into_bowl': '13', 'place_lettuce_into_bowl': '5', 'place_tomato_into_bowl': '1', 'peel_cucumber': '11', 'mix_ingredients': '15', 'mix_dressing': '10', 'place_cheese_into_bowl': '3', 'cut_cucumber': '12'}\n"
     ]
    }
   ],
   "source": [
    "mapping = {}\n",
    "filename = \"/coc/scratch/dscarafoni3/50salads/mstcn_data/50salads/mapping.txt\"\n",
    "with open(filename) as file: \n",
    "    for line in file: \n",
    "        arr = line.split(\" \")\n",
    "        label_size = len(arr[1])\n",
    "        mapping[arr[1][:label_size - 1]] = arr[0]\n",
    "print(mapping)"
   ]
  },
  {
   "cell_type": "code",
   "execution_count": 31,
   "metadata": {},
   "outputs": [
    {
     "name": "stdout",
     "output_type": "stream",
     "text": [
      "['action_start' 'action_start' 'action_start' 'action_start'\n",
      " 'action_start']\n",
      "['17' '17' '17' '17' '17']\n",
      "(577645,)\n",
      "50\n"
     ]
    }
   ],
   "source": [
    "# Y Data \n",
    "current_dir = \"/coc/pcba1/vdesu7/research_project/pcom/\"\n",
    "new_directory = '/coc/pcba1/vdesu7/research_project/pcom/groundTruth'\n",
    "file_list_labels = os.listdir(new_directory)\n",
    "y_data = list()\n",
    "count = 0\n",
    "for filename in sorted(file_list_labels):\n",
    "    if filename != '.history':\n",
    "        # arr = np.loadtxt(new_directory + \"/\" + filename, dtype=str)\n",
    "        text_file = open(new_directory + \"/\" + filename, \"r\")\n",
    "        lines = text_file.read().split('\\n')\n",
    "        # print(len(lines))\n",
    "        # print(type(lines))\n",
    "        y_data.extend(lines)\n",
    "        count +=1\n",
    "y_arr_data = np.array(y_data)\n",
    "print(y_arr_data[0:5])\n",
    "y_arr_data = np.vectorize(mapping.get)(y_arr_data)\n",
    "print(y_arr_data[0:5])\n",
    "print(y_arr_data.shape)\n",
    "# print(len(y_data))\n",
    "np.save(os.path.join(current_dir, 'y_data.npy'), y_arr_data)\n",
    "print(count)"
   ]
  },
  {
   "cell_type": "code",
   "execution_count": 28,
   "metadata": {},
   "outputs": [
    {
     "name": "stdout",
     "output_type": "stream",
     "text": [
      "/coc/pcba1/vdesu7/research_project/pcom\n",
      "(577645,)\n"
     ]
    }
   ],
   "source": [
    "print(os.path.abspath(\".\"))\n",
    "final_y_data = np.load(os.path.abspath(\".\") + \"/\" + \"y_data.npy\")\n",
    "print(final_y_data.shape)"
   ]
  },
  {
   "cell_type": "code",
   "execution_count": 29,
   "metadata": {},
   "outputs": [
    {
     "ename": "ValueError",
     "evalue": "Found input variables with inconsistent numbers of samples: [577595, 577645]",
     "output_type": "error",
     "traceback": [
      "\u001b[0;31m---------------------------------------------------------------------------\u001b[0m",
      "\u001b[0;31mValueError\u001b[0m                                Traceback (most recent call last)",
      "\u001b[0;32m<ipython-input-29-4d7b8e4a4254>\u001b[0m in \u001b[0;36m<module>\u001b[0;34m\u001b[0m\n\u001b[1;32m      1\u001b[0m \u001b[0;32mfrom\u001b[0m \u001b[0msklearn\u001b[0m\u001b[0;34m.\u001b[0m\u001b[0mmodel_selection\u001b[0m \u001b[0;32mimport\u001b[0m \u001b[0mtrain_test_split\u001b[0m\u001b[0;34m\u001b[0m\u001b[0m\n\u001b[1;32m      2\u001b[0m x_train, x_test, y_train, y_test = train_test_split(\n\u001b[0;32m----> 3\u001b[0;31m     final_x_data, final_y_data, test_size=.2, random_state=42)\n\u001b[0m\u001b[1;32m      4\u001b[0m \u001b[0mprint\u001b[0m\u001b[0;34m(\u001b[0m\u001b[0mtype\u001b[0m\u001b[0;34m(\u001b[0m\u001b[0mx_train\u001b[0m\u001b[0;34m)\u001b[0m\u001b[0;34m)\u001b[0m\u001b[0;34m\u001b[0m\u001b[0m\n\u001b[1;32m      5\u001b[0m \u001b[0mprint\u001b[0m\u001b[0;34m(\u001b[0m\u001b[0mtype\u001b[0m\u001b[0;34m(\u001b[0m\u001b[0my_train\u001b[0m\u001b[0;34m)\u001b[0m\u001b[0;34m)\u001b[0m\u001b[0;34m\u001b[0m\u001b[0m\n",
      "\u001b[0;32m/usr/local/lib/python3.5/dist-packages/sklearn/model_selection/_split.py\u001b[0m in \u001b[0;36mtrain_test_split\u001b[0;34m(*arrays, **options)\u001b[0m\n\u001b[1;32m   2029\u001b[0m         \u001b[0mtest_size\u001b[0m \u001b[0;34m=\u001b[0m \u001b[0;36m0.25\u001b[0m\u001b[0;34m\u001b[0m\u001b[0m\n\u001b[1;32m   2030\u001b[0m \u001b[0;34m\u001b[0m\u001b[0m\n\u001b[0;32m-> 2031\u001b[0;31m     \u001b[0marrays\u001b[0m \u001b[0;34m=\u001b[0m \u001b[0mindexable\u001b[0m\u001b[0;34m(\u001b[0m\u001b[0;34m*\u001b[0m\u001b[0marrays\u001b[0m\u001b[0;34m)\u001b[0m\u001b[0;34m\u001b[0m\u001b[0m\n\u001b[0m\u001b[1;32m   2032\u001b[0m \u001b[0;34m\u001b[0m\u001b[0m\n\u001b[1;32m   2033\u001b[0m     \u001b[0;32mif\u001b[0m \u001b[0mshuffle\u001b[0m \u001b[0;32mis\u001b[0m \u001b[0;32mFalse\u001b[0m\u001b[0;34m:\u001b[0m\u001b[0;34m\u001b[0m\u001b[0m\n",
      "\u001b[0;32m/usr/local/lib/python3.5/dist-packages/sklearn/utils/validation.py\u001b[0m in \u001b[0;36mindexable\u001b[0;34m(*iterables)\u001b[0m\n\u001b[1;32m    227\u001b[0m         \u001b[0;32melse\u001b[0m\u001b[0;34m:\u001b[0m\u001b[0;34m\u001b[0m\u001b[0m\n\u001b[1;32m    228\u001b[0m             \u001b[0mresult\u001b[0m\u001b[0;34m.\u001b[0m\u001b[0mappend\u001b[0m\u001b[0;34m(\u001b[0m\u001b[0mnp\u001b[0m\u001b[0;34m.\u001b[0m\u001b[0marray\u001b[0m\u001b[0;34m(\u001b[0m\u001b[0mX\u001b[0m\u001b[0;34m)\u001b[0m\u001b[0;34m)\u001b[0m\u001b[0;34m\u001b[0m\u001b[0m\n\u001b[0;32m--> 229\u001b[0;31m     \u001b[0mcheck_consistent_length\u001b[0m\u001b[0;34m(\u001b[0m\u001b[0;34m*\u001b[0m\u001b[0mresult\u001b[0m\u001b[0;34m)\u001b[0m\u001b[0;34m\u001b[0m\u001b[0m\n\u001b[0m\u001b[1;32m    230\u001b[0m     \u001b[0;32mreturn\u001b[0m \u001b[0mresult\u001b[0m\u001b[0;34m\u001b[0m\u001b[0m\n\u001b[1;32m    231\u001b[0m \u001b[0;34m\u001b[0m\u001b[0m\n",
      "\u001b[0;32m/usr/local/lib/python3.5/dist-packages/sklearn/utils/validation.py\u001b[0m in \u001b[0;36mcheck_consistent_length\u001b[0;34m(*arrays)\u001b[0m\n\u001b[1;32m    202\u001b[0m     \u001b[0;32mif\u001b[0m \u001b[0mlen\u001b[0m\u001b[0;34m(\u001b[0m\u001b[0muniques\u001b[0m\u001b[0;34m)\u001b[0m \u001b[0;34m>\u001b[0m \u001b[0;36m1\u001b[0m\u001b[0;34m:\u001b[0m\u001b[0;34m\u001b[0m\u001b[0m\n\u001b[1;32m    203\u001b[0m         raise ValueError(\"Found input variables with inconsistent numbers of\"\n\u001b[0;32m--> 204\u001b[0;31m                          \" samples: %r\" % [int(l) for l in lengths])\n\u001b[0m\u001b[1;32m    205\u001b[0m \u001b[0;34m\u001b[0m\u001b[0m\n\u001b[1;32m    206\u001b[0m \u001b[0;34m\u001b[0m\u001b[0m\n",
      "\u001b[0;31mValueError\u001b[0m: Found input variables with inconsistent numbers of samples: [577595, 577645]"
     ]
    }
   ],
   "source": [
    "from sklearn.model_selection import train_test_split\n",
    "x_train, x_test, y_train, y_test = train_test_split(\n",
    "    final_x_data, final_y_data, test_size=.2, random_state=42)\n",
    "print(type(x_train))\n",
    "print(type(y_train)) "
   ]
  }
 ],
 "metadata": {
  "interpreter": {
   "hash": "31f2aee4e71d21fbe5cf8b01ff0e069b9275f58929596ceb00d14d90e3e16cd6"
  },
  "kernelspec": {
   "display_name": "Python 3.5.2 64-bit",
   "language": "python",
   "name": "python3"
  },
  "language_info": {
   "codemirror_mode": {
    "name": "ipython",
    "version": 3
   },
   "file_extension": ".py",
   "mimetype": "text/x-python",
   "name": "python",
   "nbconvert_exporter": "python",
   "pygments_lexer": "ipython3",
   "version": "3.5.2"
  },
  "orig_nbformat": 4
 },
 "nbformat": 4,
 "nbformat_minor": 2
}
