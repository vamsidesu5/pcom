{
 "cells": [
  {
   "cell_type": "code",
   "execution_count": 2,
   "metadata": {},
   "outputs": [],
   "source": [
    "import numpy as np\n",
    "import os\n",
    "from tempfile import TemporaryFile"
   ]
  },
  {
   "cell_type": "code",
   "execution_count": 3,
   "metadata": {},
   "outputs": [
    {
     "name": "stdout",
     "output_type": "stream",
     "text": [
      "[]\n",
      "[]\n"
     ]
    }
   ],
   "source": [
    "directory = '/coc/scratch/dscarafoni3/50salads/mstcn_data/50salads/features'\n",
    "x_train = np.empty((0,2048),int)\n",
    "y_train = np.empty((0,1),int)\n",
    "x_train_data = TemporaryFile()\n",
    "y_train_data = TemporaryFile()"
   ]
  },
  {
   "cell_type": "code",
   "execution_count": null,
   "metadata": {},
   "outputs": [],
   "source": [
    "counter = 0\n",
    "for filename in os.listdir(directory):\n",
    "    #For debgugging purposes\n",
    "    print(counter)\n",
    "    counter += 1\n",
    "    print(filename)\n",
    "    #Actual Code\n",
    "    rgb_video = np.load(directory + \"/\" + filename)\n",
    "    rgb_video_transposed = np.transpose(rgb_video)\n",
    "    print(rgb_video_transposed.shape)\n",
    "    x_train = np.append(x_train,rgb_video_transposed,axis=0)\n",
    "    print(x_train.shape)\n",
    "np.save(x_train_data, x_train)\n",
    "np.save(y_train_data, y_train)\n",
    "print(x_train)"
   ]
  }
 ],
 "metadata": {
  "interpreter": {
   "hash": "31f2aee4e71d21fbe5cf8b01ff0e069b9275f58929596ceb00d14d90e3e16cd6"
  },
  "kernelspec": {
   "display_name": "Python 3.5.2 64-bit",
   "language": "python",
   "name": "python3"
  },
  "language_info": {
   "codemirror_mode": {
    "name": "ipython",
    "version": 3
   },
   "file_extension": ".py",
   "mimetype": "text/x-python",
   "name": "python",
   "nbconvert_exporter": "python",
   "pygments_lexer": "ipython3",
   "version": "3.5.2"
  },
  "orig_nbformat": 4
 },
 "nbformat": 4,
 "nbformat_minor": 2
}
